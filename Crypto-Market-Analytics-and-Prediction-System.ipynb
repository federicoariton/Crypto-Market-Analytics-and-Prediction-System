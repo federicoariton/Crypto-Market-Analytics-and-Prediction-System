{
 "cells": [
  {
   "cell_type": "code",
   "execution_count": 1,
   "id": "cdda3232-9aeb-4fd2-bcdf-3aff695056e2",
   "metadata": {},
   "outputs": [
    {
     "name": "stdout",
     "output_type": "stream",
     "text": [
      "Requirement already satisfied: requests in c:\\users\\feder\\anaconda3\\lib\\site-packages (2.32.3)\n",
      "Requirement already satisfied: pandas in c:\\users\\feder\\anaconda3\\lib\\site-packages (2.2.2)\n",
      "Requirement already satisfied: matplotlib in c:\\users\\feder\\anaconda3\\lib\\site-packages (3.9.2)\n",
      "Requirement already satisfied: charset-normalizer<4,>=2 in c:\\users\\feder\\anaconda3\\lib\\site-packages (from requests) (3.3.2)\n",
      "Requirement already satisfied: idna<4,>=2.5 in c:\\users\\feder\\anaconda3\\lib\\site-packages (from requests) (3.7)\n",
      "Requirement already satisfied: urllib3<3,>=1.21.1 in c:\\users\\feder\\anaconda3\\lib\\site-packages (from requests) (2.2.3)\n",
      "Requirement already satisfied: certifi>=2017.4.17 in c:\\users\\feder\\anaconda3\\lib\\site-packages (from requests) (2024.8.30)\n",
      "Requirement already satisfied: numpy>=1.26.0 in c:\\users\\feder\\anaconda3\\lib\\site-packages (from pandas) (1.26.4)\n",
      "Requirement already satisfied: python-dateutil>=2.8.2 in c:\\users\\feder\\anaconda3\\lib\\site-packages (from pandas) (2.9.0.post0)\n",
      "Requirement already satisfied: pytz>=2020.1 in c:\\users\\feder\\anaconda3\\lib\\site-packages (from pandas) (2024.1)\n",
      "Requirement already satisfied: tzdata>=2022.7 in c:\\users\\feder\\anaconda3\\lib\\site-packages (from pandas) (2023.3)\n",
      "Requirement already satisfied: contourpy>=1.0.1 in c:\\users\\feder\\anaconda3\\lib\\site-packages (from matplotlib) (1.2.0)\n",
      "Requirement already satisfied: cycler>=0.10 in c:\\users\\feder\\anaconda3\\lib\\site-packages (from matplotlib) (0.11.0)\n",
      "Requirement already satisfied: fonttools>=4.22.0 in c:\\users\\feder\\anaconda3\\lib\\site-packages (from matplotlib) (4.51.0)\n",
      "Requirement already satisfied: kiwisolver>=1.3.1 in c:\\users\\feder\\anaconda3\\lib\\site-packages (from matplotlib) (1.4.4)\n",
      "Requirement already satisfied: packaging>=20.0 in c:\\users\\feder\\anaconda3\\lib\\site-packages (from matplotlib) (24.1)\n",
      "Requirement already satisfied: pillow>=8 in c:\\users\\feder\\anaconda3\\lib\\site-packages (from matplotlib) (10.4.0)\n",
      "Requirement already satisfied: pyparsing>=2.3.1 in c:\\users\\feder\\anaconda3\\lib\\site-packages (from matplotlib) (3.1.2)\n",
      "Requirement already satisfied: six>=1.5 in c:\\users\\feder\\anaconda3\\lib\\site-packages (from python-dateutil>=2.8.2->pandas) (1.16.0)\n",
      "Note: you may need to restart the kernel to use updated packages.\n"
     ]
    }
   ],
   "source": [
    "pip install requests pandas matplotlib\n"
   ]
  },
  {
   "cell_type": "code",
   "execution_count": 3,
   "id": "6d2af979-2f91-4615-90f5-a3b945612e77",
   "metadata": {},
   "outputs": [],
   "source": [
    "import requests\n",
    "import pandas as pd\n",
    "import time\n"
   ]
  },
  {
   "cell_type": "code",
   "execution_count": 13,
   "id": "956e2476-f9ba-4197-a7dd-04bb35609923",
   "metadata": {},
   "outputs": [
    {
     "name": "stdout",
     "output_type": "stream",
     "text": [
      "Bitcoin Data Sample:\n",
      "                     date         price        volume\n",
      "0 2024-08-30 18:23:28.784  58805.055115  4.143969e+10\n",
      "1 2024-08-30 19:10:00.685  59177.175405  4.205528e+10\n",
      "2 2024-08-30 20:38:31.034  58945.689724  4.329366e+10\n",
      "3 2024-08-30 21:44:26.104  59003.116888  4.327127e+10\n",
      "4 2024-08-30 22:29:07.047  59180.216293  4.349399e+10\n"
     ]
    }
   ],
   "source": [
    "import requests\n",
    "import pandas as pd\n",
    "import time\n",
    "\n",
    "def fetch_crypto_data(coin_id, currency='usd', days=30):\n",
    "    \"\"\"\n",
    "    Fetch historical market data for a cryptocurrency from the CoinGecko API.\n",
    "\n",
    "    Parameters:\n",
    "    - coin_id (str): The unique identifier for the cryptocurrency (e.g., 'bitcoin', 'ethereum').\n",
    "    - currency (str): The fiat currency for price conversion (default: 'usd').\n",
    "    - days (int): Number of days of historical data to retrieve.\n",
    "\n",
    "    Returns:\n",
    "    - pd.DataFrame: DataFrame containing date, price, and volume for the cryptocurrency.\n",
    "    \"\"\"\n",
    "    # Define the API endpoint and query parameters\n",
    "    url = f\"https://api.coingecko.com/api/v3/coins/{coin_id}/market_chart\"\n",
    "    params = {'vs_currency': currency, 'days': days}\n",
    "\n",
    "    # Send a GET request to the API\n",
    "    response = requests.get(url, params=params)\n",
    "\n",
    "    # Check if the API call was successful\n",
    "    if response.status_code == 200:\n",
    "        # Extract price and volume data from the API response\n",
    "        data = response.json()\n",
    "        prices = pd.DataFrame(data['prices'], columns=['timestamp', 'price'])\n",
    "        volumes = pd.DataFrame(data['total_volumes'], columns=['timestamp', 'volume'])\n",
    "\n",
    "        # Merge price and volume data on the timestamp\n",
    "        df = pd.merge(prices, volumes, on='timestamp')\n",
    "\n",
    "        # Convert timestamps (in milliseconds) to human-readable datetime format\n",
    "        df['date'] = pd.to_datetime(df['timestamp'], unit='ms')\n",
    "\n",
    "        # Select relevant columns for analysis\n",
    "        df = df[['date', 'price', 'volume']]\n",
    "        return df\n",
    "    else:\n",
    "        # Print an error message if the API call fails\n",
    "        print(f\"Failed to fetch data for {coin_id}. Status code: {response.status_code}\")\n",
    "        return pd.DataFrame()\n",
    "\n",
    "# Fetch 90 days of historical data for Bitcoin\n",
    "bitcoin_data = fetch_crypto_data('bitcoin', days=90)\n",
    "# Fetch 90 days of historical data for Ethereum\n",
    "ethereum_data = fetch_crypto_data('ethereum', days=90)\n",
    "\n",
    "# Save the fetched data to CSV files for reproducibility and further analysis\n",
    "bitcoin_data.to_csv('bitcoin_data.csv', index=False)\n",
    "ethereum_data.to_csv('ethereum_data.csv', index=False)\n",
    "\n",
    "# Print the first few rows of the Bitcoin dataset as a sanity check\n",
    "print(\"Bitcoin Data Sample:\")\n",
    "print(bitcoin_data.head())\n"
   ]
  },
  {
   "cell_type": "code",
   "execution_count": null,
   "id": "3a38934b-87d7-4e57-8408-d617539d724d",
   "metadata": {},
   "outputs": [],
   "source": []
  }
 ],
 "metadata": {
  "kernelspec": {
   "display_name": "Python 3 (ipykernel)",
   "language": "python",
   "name": "python3"
  },
  "language_info": {
   "codemirror_mode": {
    "name": "ipython",
    "version": 3
   },
   "file_extension": ".py",
   "mimetype": "text/x-python",
   "name": "python",
   "nbconvert_exporter": "python",
   "pygments_lexer": "ipython3",
   "version": "3.12.7"
  }
 },
 "nbformat": 4,
 "nbformat_minor": 5
}
